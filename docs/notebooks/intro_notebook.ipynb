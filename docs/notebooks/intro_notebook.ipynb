{
 "cells": [
  {
   "cell_type": "markdown",
   "id": "accepting-editor",
   "metadata": {
    "cell_marker": "\"\"\""
   },
   "source": [
    "# Introducing Jupyter Notebooks\n",
    "\n",
    "======================================\n",
    "\n",
    "- author : Sylvie Dagoret-Campagne\n",
    "- affiliation : IJCLab/IN2P3/CNRS\n",
    "- creation date : 2023-10-22\n",
    "- last update : 2023-11-07\n",
    " \n",
    "======================================"
   ]
  },
  {
   "cell_type": "markdown",
   "id": "1f9d47a2-7767-4bf0-a954-227497e5abdc",
   "metadata": {
    "tags": []
   },
   "source": [
    "## Examples showing libradtranpy module use"
   ]
  },
  {
   "cell_type": "markdown",
   "id": "168f0c27-1915-44f4-b9c5-956acbce2dcc",
   "metadata": {},
   "source": [
    "### Examples in Visible mode (200 nm  - 1200 nm)"
   ]
  },
  {
   "cell_type": "markdown",
   "id": "8a515986-d328-484b-980a-87fd161c501c",
   "metadata": {},
   "source": [
    "#### Different modes of simulations"
   ]
  },
  {
   "cell_type": "markdown",
   "id": "9d1f32b5-5d87-49dd-84f2-17e73f3aa241",
   "metadata": {},
   "source": [
    "- [single atmospheric tranparency simulation ](libradtranpy/visible/SimuRT_One.ipynb)\n",
    "- [atmospheric transparency simulation versus airmass](libradtranpy/visible/SimuRT_vs_Airmass.ipynb)\n",
    "- [atmospheric transparency with clouds of different optical depth](libradtranpy/visible/SimuRT_clouds.ipynb)\n",
    "- [atmospheric transparency profiles for scattering processes](libradtranpy/visible/SimuRT_ScattPattern.ipynb)\n",
    "- [atmospheric_transparency profile for absorption processes](libradtranpy/visible/SimuRT_AbsPattern.ipynb) "
   ]
  },
  {
   "cell_type": "markdown",
   "id": "292e53db-882e-4e5a-96eb-f1281c9273c2",
   "metadata": {},
   "source": [
    "#### Multisites simulations"
   ]
  },
  {
   "cell_type": "markdown",
   "id": "b7a2cd25-252a-4ac3-9fd1-5f51d8b32b67",
   "metadata": {},
   "source": [
    "- [Comparison of total transmission at different sites](libradtranpy/visible/SimuRT_MultiSitesTotalTransmission.ipynb)\n",
    "- [Comparison of Rayleigh scattering at different sites](libradtranpy/visible/SimuRT_MultiSitesScattPattern.ipynb)\n",
    "- [Comparison of O2 absorption at different sites](libradtranpy/visible/SimuRT_MultiSitesAbsO2Pattern.ipynb)"
   ]
  },
  {
   "cell_type": "markdown",
   "id": "7383dbc1-c014-422e-b8a2-c143b42aacb5",
   "metadata": {},
   "source": [
    "### Examples in Thermal mode"
   ]
  },
  {
   "cell_type": "markdown",
   "id": "1673ef24-4750-4233-a8f9-577d87f1d6b4",
   "metadata": {},
   "source": [
    "### Impact of clouds"
   ]
  },
  {
   "cell_type": "markdown",
   "id": "fc2d4767-89ff-405c-834b-23cab5f838cd",
   "metadata": {},
   "source": [
    "- [Impact of clouds on sky brightness](libradtranpy/thermal/SimuRT_thermal_CLD_Brightness.ipynb)\n",
    "- [Impact of clouds on transmittance](libradtranpy/thermal/SimuRT_thermal_CLD_Transmittance.ipynb)\n",
    "- [Impact of clouds on Irradiance](libradtranpy/thermal/SimuRT_thermal_CLD_Irradiance.ipynb)\n",
    "- [Integrated irradiance vs cloud depth](libradtranpy/thermal/SimuRT_themal_CLD_Irradiance_Integrated.ipynb)\n",
    "- [Impact of clouds on Radiance](libradtranpy/thermal/SimuRT_thermal_CLD_Radiance.ipynb)"
   ]
  },
  {
   "cell_type": "markdown",
   "id": "66d9cad4-9639-41c8-ba63-3c7a301c3d1c",
   "metadata": {},
   "source": [
    "### Impact of precipitable water vapor"
   ]
  },
  {
   "cell_type": "markdown",
   "id": "7c68b66f-851a-4387-9414-6104ec703a72",
   "metadata": {},
   "source": [
    "- [Impact of PWV on sky brightness](libradtranpy/thermal/SimuRT_thermal_PWV_Brightness.ipynb)\n",
    "- [Impact of PWV on transmittance](libradtranpy/thermal/SimuRT_thermal_PWV_Transmittance.ipynb)\n",
    "- [Impact of PWV on irradiance](libradtranpy/thermal/SimuRT_thermal_PWV_Irradiance.ipynb)\n",
    "- [Integrated irradiance vs PWV](libradtranpy/thermal/SimuRT_thermal_PWV_Irradiance_Integrated.ipynb)"
   ]
  },
  {
   "cell_type": "markdown",
   "id": "0dbce860-e88a-4bac-af2b-d373fa83401b",
   "metadata": {},
   "source": [
    "## Examples showing the use of analytical models "
   ]
  },
  {
   "cell_type": "markdown",
   "id": "e1e02a97-f615-42e5-9661-eb4ae81164d7",
   "metadata": {},
   "source": [
    "This help to check the output of libradtran.\n"
   ]
  },
  {
   "cell_type": "markdown",
   "id": "79fcb271-7eb5-4fb9-8bc4-4cc6e2735de3",
   "metadata": {
    "tags": []
   },
   "source": [
    "- [atmospheric model altitude vs pressure or massdensity](analyticalmodels/AtmosphericProfiles.ipynb)\n",
    "- [atmospehric model altitude vs pressure](analyticalmodels/viewatmscattering.ipynb)"
   ]
  },
  {
   "cell_type": "markdown",
   "id": "d62a9fa9-290b-4916-bf7c-7045f77bbf72",
   "metadata": {},
   "source": [
    "## Example of  module pyextinction\n",
    "\n",
    "Yannick Copin has implemented the python package pyExtinction.\n",
    "\n",
    "https://gitlab.in2p3.fr/ycopin/pyExtinction/-/tree/master/pyExtinction\n",
    "\n",
    "which is included here as a tool to check libradtran simulation."
   ]
  },
  {
   "cell_type": "markdown",
   "id": "a82e0535-21a2-4d32-9cbb-c293ed061e94",
   "metadata": {},
   "source": [
    "- [Simple test of pyextinction](pyextinction/TestAtmosphericExtinction.ipynb)\n",
    "- [Compare libradtran simulation wrt pyextinction](pyextinction/Compare_libradtran_pyextinction.ipynb)"
   ]
  }
 ],
 "metadata": {
  "jupytext": {
   "cell_markers": "\"\"\""
  },
  "kernelspec": {
   "display_name": "Python 3 (ipykernel)",
   "language": "python",
   "name": "python3"
  },
  "language_info": {
   "codemirror_mode": {
    "name": "ipython",
    "version": 3
   },
   "file_extension": ".py",
   "mimetype": "text/x-python",
   "name": "python",
   "nbconvert_exporter": "python",
   "pygments_lexer": "ipython3",
   "version": "3.10.12"
  }
 },
 "nbformat": 4,
 "nbformat_minor": 5
}

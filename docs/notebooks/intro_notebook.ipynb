{
 "cells": [
  {
   "cell_type": "markdown",
   "id": "accepting-editor",
   "metadata": {
    "cell_marker": "\"\"\""
   },
   "source": [
    "# Introducing Jupyter Notebooks\n",
    "\n",
    "- author : Sylvie Dagoret-Campagne\n",
    "- affiliation : IJCLab/IN2P3/CNRS\n",
    "- creation date : 2023-10-22\n",
    "- last update : 2023-10-22"
   ]
  },
  {
   "cell_type": "code",
   "execution_count": 1,
   "id": "actual-thirty",
   "metadata": {},
   "outputs": [],
   "source": [
    "import matplotlib\n",
    "import matplotlib.pyplot as pl\n",
    "import numpy as np\n",
    "\n",
    "try:\n",
    "    from IPython import get_ipython\n",
    "    get_ipython().run_line_magic('matplotlib', 'inline')\n",
    "except AttributeError:\n",
    "    print('Magic function can only be used in IPython environment')\n",
    "    matplotlib.use('Agg')\n",
    "\n",
    "pl.rcParams[\"figure.figsize\"] = [15, 8]"
   ]
  },
  {
   "cell_type": "markdown",
   "id": "1f9d47a2-7767-4bf0-a954-227497e5abdc",
   "metadata": {
    "tags": []
   },
   "source": [
    "## Examples showing libradtranpy module use"
   ]
  },
  {
   "cell_type": "markdown",
   "id": "9c4237b3-f7d5-406c-9c45-df31636ccbf0",
   "metadata": {},
   "source": []
  },
  {
   "cell_type": "markdown",
   "id": "9d1f32b5-5d87-49dd-84f2-17e73f3aa241",
   "metadata": {},
   "source": [
    "- [single atmospheric tranparency simulation ](libradtranpy/SimuRT_One.ipynb)\n",
    "- [atmospheric transparency simulation versus airmass](libradtranpy/SimuRT_vs_Airmass.ipynb)\n",
    "- [atmospheric transparency with clouds of different optical depth](libradtranpy/SimuRT_clouds.ipynb)\n",
    "- [atmospheric transparency profiles for scattering processes](libradtranpy/SimuRT_ScattPattern.ipynb)\n",
    "- [atmospheric_transparency profile for absorption processes](libradtranpy/SimuRT_AbsPattern.ipynb) "
   ]
  },
  {
   "cell_type": "markdown",
   "id": "0dbce860-e88a-4bac-af2b-d373fa83401b",
   "metadata": {},
   "source": [
    "## Examples showing the use of analytical models "
   ]
  },
  {
   "cell_type": "markdown",
   "id": "e1e02a97-f615-42e5-9661-eb4ae81164d7",
   "metadata": {},
   "source": [
    "This help to check the output of libradtran.\n"
   ]
  },
  {
   "cell_type": "markdown",
   "id": "79fcb271-7eb5-4fb9-8bc4-4cc6e2735de3",
   "metadata": {
    "tags": []
   },
   "source": [
    "- [atmospheric model altitude vs pressure or massdensity](analyticalmodels/AtmosphericProfiles.ipynb)\n",
    "- [atmospehric model altitude vs pressure](analyticalmodels/viewatmscattering.ipynb)"
   ]
  },
  {
   "cell_type": "markdown",
   "id": "d62a9fa9-290b-4916-bf7c-7045f77bbf72",
   "metadata": {},
   "source": [
    "## Example of  module pyextinction\n",
    "\n",
    "Yannick Copin has implemented the python package pyExtinction.\n",
    "\n",
    "https://gitlab.in2p3.fr/ycopin/pyExtinction/-/tree/master/pyExtinction\n",
    "\n",
    "which is included here as a tool to check libradtran simulation."
   ]
  },
  {
   "cell_type": "markdown",
   "id": "a82e0535-21a2-4d32-9cbb-c293ed061e94",
   "metadata": {},
   "source": [
    "- [Simple test of pyextinction](pyextinction/TestAtmosphericExtinction.ipynb)\n",
    "- [Compare libradtran simulation wrt pyextinction](pyextinction/Compare_libradtran_pyextinction.ipynb)"
   ]
  },
  {
   "cell_type": "code",
   "execution_count": null,
   "id": "f2e05056-23bd-429a-bbe3-9f27ec851163",
   "metadata": {},
   "outputs": [],
   "source": []
  }
 ],
 "metadata": {
  "jupytext": {
   "cell_markers": "\"\"\""
  },
  "kernelspec": {
   "display_name": "Python 3 (ipykernel)",
   "language": "python",
   "name": "python3"
  },
  "language_info": {
   "codemirror_mode": {
    "name": "ipython",
    "version": 3
   },
   "file_extension": ".py",
   "mimetype": "text/x-python",
   "name": "python",
   "nbconvert_exporter": "python",
   "pygments_lexer": "ipython3",
   "version": "3.11.5"
  }
 },
 "nbformat": 4,
 "nbformat_minor": 5
}

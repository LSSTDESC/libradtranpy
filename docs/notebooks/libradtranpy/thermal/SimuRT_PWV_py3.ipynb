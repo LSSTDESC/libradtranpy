{
 "cells": [
  {
   "cell_type": "markdown",
   "metadata": {},
   "source": [
    "# Impact of PWV on atmospheric transmission in thermal part : differential part\n",
    "===================================================================\n",
    "\n",
    "- Sylvie Dagoret-Campagne\n",
    "- affliliation : IJCLAB/IN2P3/CNRS\n",
    "- creation date :  24 January 2020\n",
    "- update :  26 January 2020\n",
    "\n",
    "\n",
    "\n",
    "Flags to select output variable\n",
    " - FLAG_BRIGHTNESS\n",
    " - FLAG_TRANSMITTANCE\n"
   ]
  },
  {
   "cell_type": "code",
   "execution_count": 1,
   "metadata": {},
   "outputs": [],
   "source": [
    "%load_ext autoreload\n",
    "%autoreload 2"
   ]
  },
  {
   "cell_type": "code",
   "execution_count": 2,
   "metadata": {},
   "outputs": [],
   "source": [
    "import matplotlib.pyplot as plt\n",
    "%matplotlib inline\n",
    "import sys\n",
    "import os\n",
    "import numpy as np"
   ]
  },
  {
   "cell_type": "code",
   "execution_count": 3,
   "metadata": {},
   "outputs": [],
   "source": [
    "import matplotlib\n",
    "import matplotlib.pyplot as plt\n",
    "import matplotlib.colors as colors\n",
    "import matplotlib.cm as cmx"
   ]
  },
  {
   "cell_type": "code",
   "execution_count": 4,
   "metadata": {},
   "outputs": [],
   "source": [
    "matplotlib.rcParams.update({'font.size': 15, 'lines.linewidth': 2, 'lines.markersize': 15})\n",
    "matplotlib.rcParams[\"axes.labelsize\"]=\"small\"\n",
    "matplotlib.rcParams[\"axes.linewidth\"]=2.0\n",
    "matplotlib.rcParams[\"xtick.major.size\"]=8\n",
    "matplotlib.rcParams[\"ytick.major.size\"]=8\n",
    "matplotlib.rcParams[\"ytick.minor.size\"]=5\n",
    "matplotlib.rcParams[\"xtick.labelsize\"]=\"large\"\n",
    "matplotlib.rcParams[\"ytick.labelsize\"]=\"large\"\n",
    "matplotlib.rcParams[\"figure.figsize\"]=(12,6)\n",
    "matplotlib.rcParams['axes.titlesize'] = 15\n",
    "matplotlib.rcParams['axes.titleweight'] = 'bold'\n",
    "#matplotlib.rcParams['axes.facecolor'] = 'blue'\n",
    "matplotlib.rcParams['xtick.direction'] = 'out'\n",
    "matplotlib.rcParams['ytick.direction'] = 'out'\n",
    "matplotlib.rcParams['lines.markeredgewidth'] = 0.3 # the line width around the marker symbol\n",
    "matplotlib.rcParams['lines.markersize'] = 10  # markersize, in points\n",
    "matplotlib.rcParams['grid.alpha'] = 1. # transparency, between 0.0 and 1.0\n",
    "matplotlib.rcParams['grid.linestyle'] = '-' # simple line\n",
    "matplotlib.rcParams['grid.linewidth'] = 0.4 # in points "
   ]
  },
  {
   "cell_type": "code",
   "execution_count": 5,
   "metadata": {},
   "outputs": [],
   "source": [
    "from scipy.interpolate import interp1d"
   ]
  },
  {
   "cell_type": "code",
   "execution_count": 6,
   "metadata": {},
   "outputs": [],
   "source": [
    "import time\n",
    "from datetime import datetime,date\n",
    "import dateutil.parser"
   ]
  },
  {
   "cell_type": "code",
   "execution_count": 7,
   "metadata": {},
   "outputs": [],
   "source": [
    "today = date.today()\n",
    "string_date=today.strftime(\"%Y-%m-%d\")"
   ]
  },
  {
   "cell_type": "code",
   "execution_count": 8,
   "metadata": {},
   "outputs": [
    {
     "name": "stdout",
     "output_type": "stream",
     "text": [
      "/Users/dagoret/MacOSX/External/libRadtran/\n",
      "/Users/dagoret/MacOSX/External/libRadtran/\n",
      "/Users/dagoret/MacOSX/External/libRadtran/\n",
      "/Users/dagoret/MacOSX/External/libRadtran/\n"
     ]
    }
   ],
   "source": [
    "import libsimulateThermal \n",
    "import libsimulateVisible\n",
    "import libsimulateThermalIrradiance\n",
    "import libsimulateThermalTransmittance"
   ]
  },
  {
   "cell_type": "code",
   "execution_count": 9,
   "metadata": {},
   "outputs": [
    {
     "data": {
      "text/plain": [
       "'/Users/dagoret/MacOSX/External/libRadtran'"
      ]
     },
     "execution_count": 9,
     "metadata": {},
     "output_type": "execute_result"
    }
   ],
   "source": [
    "os.getenv('LIBRADTRANDIR')"
   ]
  },
  {
   "cell_type": "code",
   "execution_count": 10,
   "metadata": {},
   "outputs": [],
   "source": [
    "FLAG_BRIGHTNESS = False\n",
    "FLAG_TRANSMITTANCE = True"
   ]
  },
  {
   "cell_type": "code",
   "execution_count": 11,
   "metadata": {},
   "outputs": [],
   "source": [
    "am=1.\n",
    "pressure = 0.\n",
    "pwv=4.0\n",
    "aer=0\n",
    "ozone=300.\n",
    "cloudext=0"
   ]
  },
  {
   "cell_type": "code",
   "execution_count": 12,
   "metadata": {},
   "outputs": [],
   "source": [
    "pwv=np.linspace(0.2,13.,10)"
   ]
  },
  {
   "cell_type": "code",
   "execution_count": 13,
   "metadata": {},
   "outputs": [],
   "source": [
    "NBOBS=len(pwv)"
   ]
  },
  {
   "cell_type": "code",
   "execution_count": 14,
   "metadata": {},
   "outputs": [],
   "source": [
    "jet = plt.get_cmap('jet')\n",
    "cNorm = colors.Normalize(vmin=0, vmax=NBOBS)\n",
    "scalarMap = cmx.ScalarMappable(norm=cNorm, cmap=jet)\n",
    "all_colors = scalarMap.to_rgba(np.arange( NBOBS), alpha=1)"
   ]
  },
  {
   "cell_type": "code",
   "execution_count": 15,
   "metadata": {},
   "outputs": [
    {
     "name": "stdout",
     "output_type": "stream",
     "text": [
      "--------------------------------------------\n",
      " 1) airmass =  1.0\n",
      " 2) pwv =  0.2\n",
      " 3) oz =  300.0\n",
      " 4) pressure  =  0.0\n",
      " 5) atmospheric profile =  us\n",
      " 6) interaction processes =  sa\n",
      " 7) cloud extinction =  0\n",
      "--------------------------------------------\n",
      "transmittance\n",
      "Running uvspec with input file:  simulations/RT/2.0.1/MPL/pp/us/sa/rtthermal/in/RT_MPL_pp_us_sa_rtthermal_z10_wv2_oz30_cld0000.INP\n",
      "Output to file                :  simulations/RT/2.0.1/MPL/pp/us/sa/rtthermal/out/RT_MPL_pp_us_sa_rtthermal_z10_wv2_oz30_cld0000.OUT\n",
      "uvspec cmd:  /Users/dagoret/MacOSX/External/libRadtran/bin/uvspec  < simulations/RT/2.0.1/MPL/pp/us/sa/rtthermal/in/RT_MPL_pp_us_sa_rtthermal_z10_wv2_oz30_cld0000.INP > simulations/RT/2.0.1/MPL/pp/us/sa/rtthermal/out/RT_MPL_pp_us_sa_rtthermal_z10_wv2_oz30_cld0000.OUT\n"
     ]
    },
    {
     "name": "stderr",
     "output_type": "stream",
     "text": [
      "**********************************************************************************\n",
      "*Error: Data files for REPTRAN not found in directory data/correlated_k/reptran. *'\n",
      "*       Please check whether you have downloaded the required REPTRAN data files *\n",
      "*       from http://www.libradtran.org/doku.php?id=download and unzipped the data*\n",
      "*       in the libRadtran folder.                                                *\n",
      "**********************************************************************************\n",
      "Error 2 in (function 'set_transmittance_wl_grid_reptran', file 'ancillary.c', line 2095) with reason: failed opening the representative wavelengths file\n",
      "Error 2 in (function 'setup_wlgrid', file 'ancillary.c', line 367)\n",
      "Error 2 in (function 'uvspec', file 'uvspec.c', line 48)\n",
      "Error 2 during execution of uvspec\n",
      "/var/folders/79/hrybm_4s0zjd4jsb7lp_trhh0000gp/T/ipykernel_8910/2879679688.py:15: UserWarning: loadtxt: input contained no data: \"simulations/RT/2.0.1/MPL/pp/us/sa/rtthermal/out/RT_MPL_pp_us_sa_rtthermal_z10_wv2_oz30_cld0000.OUT\"\n",
      "  data = np.loadtxt(os.path.join(path,thefile))\n"
     ]
    },
    {
     "ename": "IndexError",
     "evalue": "too many indices for array: array is 1-dimensional, but 2 were indexed",
     "output_type": "error",
     "traceback": [
      "\u001b[0;31m---------------------------------------------------------------------------\u001b[0m",
      "\u001b[0;31mIndexError\u001b[0m                                Traceback (most recent call last)",
      "Cell \u001b[0;32mIn[15], line 16\u001b[0m\n\u001b[1;32m     11\u001b[0m     path,thefile\u001b[38;5;241m=\u001b[39mlibsimulateThermalIrradiance\u001b[38;5;241m.\u001b[39mProcessSimulation(am,pwv[index],ozone,pressure,\n\u001b[1;32m     12\u001b[0m                                                   prof_str\u001b[38;5;241m=\u001b[39m\u001b[38;5;124m'\u001b[39m\u001b[38;5;124mus\u001b[39m\u001b[38;5;124m'\u001b[39m,proc_str\u001b[38;5;241m=\u001b[39m\u001b[38;5;124m'\u001b[39m\u001b[38;5;124msa\u001b[39m\u001b[38;5;124m'\u001b[39m,cloudext\u001b[38;5;241m=\u001b[39mcloudext)\n\u001b[1;32m     15\u001b[0m data \u001b[38;5;241m=\u001b[39m np\u001b[38;5;241m.\u001b[39mloadtxt(os\u001b[38;5;241m.\u001b[39mpath\u001b[38;5;241m.\u001b[39mjoin(path,thefile))\n\u001b[0;32m---> 16\u001b[0m wl \u001b[38;5;241m=\u001b[39m data[:,\u001b[38;5;241m0\u001b[39m]\n\u001b[1;32m     17\u001b[0m atm \u001b[38;5;241m=\u001b[39m data[:,\u001b[38;5;241m1\u001b[39m] \n\u001b[1;32m     18\u001b[0m all_temp\u001b[38;5;241m.\u001b[39mappend(atm)\n",
      "\u001b[0;31mIndexError\u001b[0m: too many indices for array: array is 1-dimensional, but 2 were indexed"
     ]
    }
   ],
   "source": [
    "all_temp = []\n",
    "for index in np.arange(NBOBS):\n",
    "\n",
    "    if FLAG_BRIGHTNESS :\n",
    "        path,thefile=libsimulateThermal.ProcessSimulation(am,pwv[index],ozone,pressure,\n",
    "                                                      prof_str='us',proc_str='sa',cloudext=cloudext)\n",
    "    elif FLAG_TRANSMITTANCE:\n",
    "        path,thefile=libsimulateThermalTransmittance.ProcessSimulation(am,pwv[index],ozone,pressure,\n",
    "                                                                       prof_str='us',proc_str='sa',cloudext=cloudext)\n",
    "    else:\n",
    "        path,thefile=libsimulateThermalIrradiance.ProcessSimulation(am,pwv[index],ozone,pressure,\n",
    "                                                      prof_str='us',proc_str='sa',cloudext=cloudext)\n",
    "\n",
    "    \n",
    "    data = np.loadtxt(os.path.join(path,thefile))\n",
    "    wl = data[:,0]\n",
    "    atm = data[:,1] \n",
    "    all_temp.append(atm)"
   ]
  },
  {
   "cell_type": "code",
   "execution_count": null,
   "metadata": {},
   "outputs": [],
   "source": [
    "wl1=wl"
   ]
  },
  {
   "cell_type": "code",
   "execution_count": null,
   "metadata": {},
   "outputs": [],
   "source": [
    "for index in np.arange(NBOBS):  \n",
    "    if FLAG_TRANSMITTANCE:\n",
    "        plt.plot(wl1,1-all_temp[index],'-',color=all_colors[index])\n",
    "    else:\n",
    "        plt.plot(wl1,all_temp[index],'-',color=all_colors[index])\n",
    "plt.xlim(0,20000)\n",
    "plt.grid()\n",
    "if FLAG_BRIGHTNESS:\n",
    "    plt.title(\"Brightness temperature pwv from 0.2 mm to 12 mm, no cloud\")\n",
    "    plt.xlabel(\"$\\\\lambda$ (nm)\")\n",
    "    plt.ylabel(\"Temperature (K)\")\n",
    "    figname=string_date+\"_multibrightness_pwv_cld0.png\"\n",
    "if FLAG_TRANSMITTANCE:\n",
    "    plt.title(\"Transmittance pwv from 0.2 mm to 12 mm, no cloud\")\n",
    "    plt.xlabel(\"$\\\\lambda$ (nm)\")\n",
    "    plt.ylabel(\"transmittance\")\n",
    "    figname=string_date+\"_multittransmittance_pwv_cld0.png\"    \n",
    "else:\n",
    "    plt.title(\"Irradiance pwv from 0.2 mm to 12 mm, no cloud\")\n",
    "    plt.xlabel(\"$\\\\lambda$ (nm)\")\n",
    "    plt.ylabel(\"irradiance ($W/(m^2.nm)$)\")\n",
    "    figname=string_date+\"_multiirradiance_pwv_cld0.png\"\n",
    "plt.savefig(figname)"
   ]
  },
  {
   "cell_type": "code",
   "execution_count": null,
   "metadata": {},
   "outputs": [],
   "source": []
  }
 ],
 "metadata": {
  "anaconda-cloud": {},
  "kernelspec": {
   "display_name": "Python 3 (ipykernel)",
   "language": "python",
   "name": "python3"
  },
  "language_info": {
   "codemirror_mode": {
    "name": "ipython",
    "version": 3
   },
   "file_extension": ".py",
   "mimetype": "text/x-python",
   "name": "python",
   "nbconvert_exporter": "python",
   "pygments_lexer": "ipython3",
   "version": "3.11.5"
  },
  "toc": {
   "nav_menu": {
    "height": "12px",
    "width": "252px"
   },
   "number_sections": true,
   "sideBar": true,
   "skip_h1_title": false,
   "toc_cell": false,
   "toc_position": {},
   "toc_section_display": "block",
   "toc_window_display": false
  }
 },
 "nbformat": 4,
 "nbformat_minor": 4
}

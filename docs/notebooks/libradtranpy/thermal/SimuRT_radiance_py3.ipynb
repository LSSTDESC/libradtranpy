{
 "cells": [
  {
   "cell_type": "markdown",
   "metadata": {},
   "source": [
    "# Impact of Cloud optical depth on atmospheric transmission in thermal part : differential part\n",
    "=======================================================================\n",
    "\n",
    "\n",
    "\n",
    "- Sylvie Dagoret-Campagne\n",
    "- affliliation : IJCLAB/IN2P3/CNRS\n",
    "- creation date :  24 January 2020\n",
    "- update :  26 January 2020\n",
    "\n",
    "\n",
    "Flags to select output variable\n",
    " - FLAG_BRIGHTNESS\n",
    " - FLAG_TRANSMITTANCE\n",
    "\n"
   ]
  },
  {
   "cell_type": "code",
   "execution_count": 1,
   "metadata": {},
   "outputs": [],
   "source": [
    "%load_ext autoreload\n",
    "%autoreload 2"
   ]
  },
  {
   "cell_type": "code",
   "execution_count": 2,
   "metadata": {},
   "outputs": [],
   "source": [
    "import matplotlib.pyplot as plt\n",
    "%matplotlib inline\n",
    "import sys\n",
    "import os\n",
    "import numpy as np"
   ]
  },
  {
   "cell_type": "code",
   "execution_count": 3,
   "metadata": {},
   "outputs": [],
   "source": [
    "import matplotlib\n",
    "import matplotlib.pyplot as plt\n",
    "import matplotlib.colors as colors\n",
    "import matplotlib.cm as cmx"
   ]
  },
  {
   "cell_type": "code",
   "execution_count": 4,
   "metadata": {},
   "outputs": [],
   "source": [
    "matplotlib.rcParams.update({'font.size': 15, 'lines.linewidth': 2, 'lines.markersize': 15})\n",
    "matplotlib.rcParams[\"axes.labelsize\"]=\"small\"\n",
    "matplotlib.rcParams[\"axes.linewidth\"]=2.0\n",
    "matplotlib.rcParams[\"xtick.major.size\"]=8\n",
    "matplotlib.rcParams[\"ytick.major.size\"]=8\n",
    "matplotlib.rcParams[\"ytick.minor.size\"]=5\n",
    "matplotlib.rcParams[\"xtick.labelsize\"]=\"large\"\n",
    "matplotlib.rcParams[\"ytick.labelsize\"]=\"large\"\n",
    "matplotlib.rcParams[\"figure.figsize\"]=(12,6)\n",
    "matplotlib.rcParams['axes.titlesize'] = 15\n",
    "matplotlib.rcParams['axes.titleweight'] = 'bold'\n",
    "#matplotlib.rcParams['axes.facecolor'] = 'blue'\n",
    "matplotlib.rcParams['xtick.direction'] = 'out'\n",
    "matplotlib.rcParams['ytick.direction'] = 'out'\n",
    "matplotlib.rcParams['lines.markeredgewidth'] = 0.3 # the line width around the marker symbol\n",
    "matplotlib.rcParams['lines.markersize'] = 10  # markersize, in points\n",
    "matplotlib.rcParams['grid.alpha'] = 1. # transparency, between 0.0 and 1.0\n",
    "matplotlib.rcParams['grid.linestyle'] = '-' # simple line\n",
    "matplotlib.rcParams['grid.linewidth'] = 0.4 # in points "
   ]
  },
  {
   "cell_type": "code",
   "execution_count": 5,
   "metadata": {},
   "outputs": [],
   "source": [
    "from scipy.interpolate import interp1d"
   ]
  },
  {
   "cell_type": "code",
   "execution_count": 6,
   "metadata": {},
   "outputs": [],
   "source": [
    "import time\n",
    "from datetime import datetime,date\n",
    "import dateutil.parser"
   ]
  },
  {
   "cell_type": "code",
   "execution_count": 7,
   "metadata": {},
   "outputs": [],
   "source": [
    "today = date.today()\n",
    "string_date=today.strftime(\"%Y-%m-%d\")"
   ]
  },
  {
   "cell_type": "code",
   "execution_count": 8,
   "metadata": {},
   "outputs": [
    {
     "name": "stdout",
     "output_type": "stream",
     "text": [
      "/Users/sylvie/MacOSX/External/libRadtran2/\n"
     ]
    }
   ],
   "source": [
    "#import libsimulateThermalIrradianceIntegrated\n",
    "\n",
    "import libsimulateThermalRadiance"
   ]
  },
  {
   "cell_type": "code",
   "execution_count": 9,
   "metadata": {},
   "outputs": [
    {
     "data": {
      "text/plain": [
       "'/Users/sylvie/MacOSX/External/libRadtran2'"
      ]
     },
     "execution_count": 9,
     "metadata": {},
     "output_type": "execute_result"
    }
   ],
   "source": [
    "os.getenv('LIBRADTRANDIR')"
   ]
  },
  {
   "cell_type": "code",
   "execution_count": null,
   "metadata": {},
   "outputs": [],
   "source": []
  },
  {
   "cell_type": "code",
   "execution_count": 10,
   "metadata": {},
   "outputs": [],
   "source": [
    "am=1.\n",
    "pressure = 0.\n",
    "pwv=4.0\n",
    "aer=0\n",
    "ozone=300."
   ]
  },
  {
   "cell_type": "code",
   "execution_count": 11,
   "metadata": {},
   "outputs": [],
   "source": [
    "#cloudext=np.linspace(0.0,0.2,10)\n",
    "cloudext=np.linspace(0.2,0.3,1)"
   ]
  },
  {
   "cell_type": "code",
   "execution_count": 12,
   "metadata": {},
   "outputs": [],
   "source": [
    "NBOBS=len(cloudext)"
   ]
  },
  {
   "cell_type": "code",
   "execution_count": 13,
   "metadata": {},
   "outputs": [],
   "source": [
    "jet = plt.get_cmap('jet')\n",
    "cNorm = colors.Normalize(vmin=0, vmax=NBOBS)\n",
    "scalarMap = cmx.ScalarMappable(norm=cNorm, cmap=jet)\n",
    "all_colors = scalarMap.to_rgba(np.arange( NBOBS), alpha=1)"
   ]
  },
  {
   "cell_type": "code",
   "execution_count": 14,
   "metadata": {},
   "outputs": [
    {
     "name": "stdout",
     "output_type": "stream",
     "text": [
      "--------------------------------------------\n",
      " 1) airmass =  1.0\n",
      " 2) pwv =  4.0\n",
      " 3) oz =  300.0\n",
      " 4) pressure  =  0.0\n",
      " 5) atmospheric profile =  us\n",
      " 6) interaction processes =  sa\n",
      " 7) cloud extinction =  0.2\n",
      "--------------------------------------------\n",
      "Running uvspec with input file:  simulations/RT/2.0.1/MPL/pp/us/sa/rtthermal/in/RT_MPL_pp_us_sa_rtthermal_z10_wv40_oz30_cld0200.INP\n",
      "Output to file                :  simulations/RT/2.0.1/MPL/pp/us/sa/rtthermal/out/RT_MPL_pp_us_sa_rtthermal_z10_wv40_oz30_cld0200.OUT\n",
      "uvspec cmd:  /Users/sylvie/MacOSX/External/libRadtran2/bin/uvspec  < simulations/RT/2.0.1/MPL/pp/us/sa/rtthermal/in/RT_MPL_pp_us_sa_rtthermal_z10_wv40_oz30_cld0200.INP > simulations/RT/2.0.1/MPL/pp/us/sa/rtthermal/out/RT_MPL_pp_us_sa_rtthermal_z10_wv40_oz30_cld0200.OUT\n"
     ]
    },
    {
     "name": "stderr",
     "output_type": "stream",
     "text": [
      "**********************************************************************************\n",
      "*Error: Data files for REPTRAN not found in directory data/correlated_k/reptran. *'\n",
      "*       Please check whether you have downloaded the required REPTRAN data files *\n",
      "*       from http://www.libradtran.org/doku.php?id=download and unzipped the data*\n",
      "*       in the libRadtran folder.                                                *\n",
      "**********************************************************************************\n",
      "Error 2 while opening the representative wavelengths file.\n",
      "Error 2 returned by function set_transmittance_wl_grid_reptran in (line 291, function 'setup_wlgrid', file 'ancillary.c')\n",
      "Error 2 setting up transmittance wavelength grid in uvspec (uvspec.c)\n",
      "Error 2 during execution of uvspec\n",
      "/var/folders/m7/6pm3rhtj0c71ls7jj9mn1g740000gp/T/ipykernel_13394/3319722937.py:8: UserWarning: loadtxt: input contained no data: \"simulations/RT/2.0.1/MPL/pp/us/sa/rtthermal/out/RT_MPL_pp_us_sa_rtthermal_z10_wv40_oz30_cld0200.OUT\"\n",
      "  data = np.loadtxt(os.path.join(path,thefile))\n"
     ]
    },
    {
     "ename": "IndexError",
     "evalue": "too many indices for array: array is 1-dimensional, but 2 were indexed",
     "output_type": "error",
     "traceback": [
      "\u001b[0;31m---------------------------------------------------------------------------\u001b[0m",
      "\u001b[0;31mIndexError\u001b[0m                                Traceback (most recent call last)",
      "Cell \u001b[0;32mIn[14], line 9\u001b[0m\n\u001b[1;32m      5\u001b[0m path,thefile\u001b[38;5;241m=\u001b[39mlibsimulateThermalRadiance\u001b[38;5;241m.\u001b[39mProcessSimulation(am,pwv,ozone,pressure,\n\u001b[1;32m      6\u001b[0m                                                   prof_str\u001b[38;5;241m=\u001b[39m\u001b[38;5;124m'\u001b[39m\u001b[38;5;124mus\u001b[39m\u001b[38;5;124m'\u001b[39m,proc_str\u001b[38;5;241m=\u001b[39m\u001b[38;5;124m'\u001b[39m\u001b[38;5;124msa\u001b[39m\u001b[38;5;124m'\u001b[39m,cloudext\u001b[38;5;241m=\u001b[39mcloudext[index])\n\u001b[1;32m      8\u001b[0m data \u001b[38;5;241m=\u001b[39m np\u001b[38;5;241m.\u001b[39mloadtxt(os\u001b[38;5;241m.\u001b[39mpath\u001b[38;5;241m.\u001b[39mjoin(path,thefile))\n\u001b[0;32m----> 9\u001b[0m wl \u001b[38;5;241m=\u001b[39m \u001b[43mdata\u001b[49m\u001b[43m[\u001b[49m\u001b[43m:\u001b[49m\u001b[43m,\u001b[49m\u001b[38;5;241;43m0\u001b[39;49m\u001b[43m]\u001b[49m\n\u001b[1;32m     10\u001b[0m atm \u001b[38;5;241m=\u001b[39m data[:,\u001b[38;5;241m1\u001b[39m:] \n\u001b[1;32m     11\u001b[0m all_temp\u001b[38;5;241m.\u001b[39mappend(atm)\n",
      "\u001b[0;31mIndexError\u001b[0m: too many indices for array: array is 1-dimensional, but 2 were indexed"
     ]
    }
   ],
   "source": [
    "all_temp = []\n",
    "for index in np.arange(NBOBS):\n",
    "\n",
    "   \n",
    "    path,thefile=libsimulateThermalRadiance.ProcessSimulation(am,pwv,ozone,pressure,\n",
    "                                                      prof_str='us',proc_str='sa',cloudext=cloudext[index])\n",
    "    \n",
    "    data = np.loadtxt(os.path.join(path,thefile))\n",
    "    wl = data[:,0]\n",
    "    atm = data[:,1:] \n",
    "    all_temp.append(atm)"
   ]
  },
  {
   "cell_type": "code",
   "execution_count": null,
   "metadata": {},
   "outputs": [],
   "source": []
  },
  {
   "cell_type": "code",
   "execution_count": null,
   "metadata": {},
   "outputs": [],
   "source": [
    "costh=np.array([1,0.8,0.6,0.4,0.2])"
   ]
  },
  {
   "cell_type": "code",
   "execution_count": null,
   "metadata": {},
   "outputs": [],
   "source": [
    "N=len(costh)"
   ]
  },
  {
   "cell_type": "code",
   "execution_count": null,
   "metadata": {},
   "outputs": [],
   "source": [
    "jet = plt.get_cmap('jet')\n",
    "cNorm = colors.Normalize(vmin=0, vmax=N-1)\n",
    "scalarMap = cmx.ScalarMappable(norm=cNorm, cmap=jet)\n",
    "all_colors = scalarMap.to_rgba(np.arange(N), alpha=1)"
   ]
  },
  {
   "cell_type": "code",
   "execution_count": null,
   "metadata": {},
   "outputs": [],
   "source": [
    "cldindex = str(int(cloudext[0] * 1000))     \n",
    "cld_str=cldindex.zfill(4)"
   ]
  },
  {
   "cell_type": "code",
   "execution_count": null,
   "metadata": {},
   "outputs": [],
   "source": [
    "for index in np.arange(N):\n",
    "    label = \"$\\cos \\\\theta $ =  {}\".format(costh[index])\n",
    "    plt.plot(wl,atm[:,index],'-',color=all_colors[index],label=label)\n",
    "plt.xlim(0,25000)\n",
    "plt.grid()\n",
    "title = \"Radiance, cloudext = {}\".format(cloudext[0])\n",
    "plt.title(title)\n",
    "plt.xlabel(\"$\\\\lambda$ (nm)\")\n",
    "plt.ylabel(\"radiance ($W/(m^2.nm.sr)$)\")\n",
    "plt.legend()\n",
    "figname=string_date+\"_radiance_cloudext_{}.png\".format(cld_str)\n",
    "plt.savefig(figname)"
   ]
  },
  {
   "cell_type": "code",
   "execution_count": null,
   "metadata": {},
   "outputs": [],
   "source": []
  }
 ],
 "metadata": {
  "anaconda-cloud": {},
  "kernelspec": {
   "display_name": "Python 3 (ipykernel)",
   "language": "python",
   "name": "python3"
  },
  "language_info": {
   "codemirror_mode": {
    "name": "ipython",
    "version": 3
   },
   "file_extension": ".py",
   "mimetype": "text/x-python",
   "name": "python",
   "nbconvert_exporter": "python",
   "pygments_lexer": "ipython3",
   "version": "3.9.15"
  },
  "toc": {
   "nav_menu": {
    "height": "12px",
    "width": "252px"
   },
   "number_sections": true,
   "sideBar": true,
   "skip_h1_title": false,
   "toc_cell": false,
   "toc_position": {},
   "toc_section_display": "block",
   "toc_window_display": false
  }
 },
 "nbformat": 4,
 "nbformat_minor": 4
}

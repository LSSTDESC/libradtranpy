{
 "cells": [
  {
   "cell_type": "markdown",
   "metadata": {},
   "source": [
    "# Generate scattering profiles for different observatory sites\n",
    "===================================================================================\n",
    "\n",
    "- Sylvie Dagoret-Campagne\n",
    "- affliliation : IJCLAB/IN2P3/CNRS\n",
    "- creation date :  23 October 2023\n",
    "- Last verification : August 27th 2024\n",
    "\n",
    "==================================================================================="
   ]
  },
  {
   "cell_type": "code",
   "execution_count": null,
   "metadata": {},
   "outputs": [],
   "source": [
    "%load_ext autoreload\n",
    "%autoreload 2"
   ]
  },
  {
   "cell_type": "code",
   "execution_count": null,
   "metadata": {},
   "outputs": [],
   "source": [
    "import matplotlib.pyplot as plt\n",
    "%matplotlib inline\n",
    "import sys\n",
    "import os\n",
    "import numpy as np"
   ]
  },
  {
   "cell_type": "code",
   "execution_count": null,
   "metadata": {},
   "outputs": [],
   "source": [
    "import matplotlib\n",
    "import matplotlib.pyplot as plt\n",
    "import matplotlib.colors as colors\n",
    "import matplotlib.cm as cmx\n",
    "import seaborn as sns"
   ]
  },
  {
   "cell_type": "code",
   "execution_count": null,
   "metadata": {},
   "outputs": [],
   "source": [
    "matplotlib.rcParams.update({'font.size': 15, 'lines.linewidth': 2, 'lines.markersize': 15})\n",
    "matplotlib.rcParams[\"axes.labelsize\"]=\"small\"\n",
    "matplotlib.rcParams[\"axes.linewidth\"]=2.0\n",
    "matplotlib.rcParams[\"xtick.major.size\"]=8\n",
    "matplotlib.rcParams[\"ytick.major.size\"]=8\n",
    "matplotlib.rcParams[\"ytick.minor.size\"]=5\n",
    "matplotlib.rcParams[\"xtick.labelsize\"]=\"large\"\n",
    "matplotlib.rcParams[\"ytick.labelsize\"]=\"large\"\n",
    "matplotlib.rcParams[\"figure.figsize\"]=(12,6)\n",
    "matplotlib.rcParams['axes.titlesize'] = 15\n",
    "matplotlib.rcParams['axes.titleweight'] = 'bold'\n",
    "#matplotlib.rcParams['axes.facecolor'] = 'blue'\n",
    "matplotlib.rcParams['xtick.direction'] = 'out'\n",
    "matplotlib.rcParams['ytick.direction'] = 'out'\n",
    "matplotlib.rcParams['lines.markeredgewidth'] = 0.3 # the line width around the marker symbol\n",
    "matplotlib.rcParams['lines.markersize'] = 10  # markersize, in points\n",
    "matplotlib.rcParams['grid.alpha'] = 1. # transparency, between 0.0 and 1.0\n",
    "matplotlib.rcParams['grid.linestyle'] = '-' # simple line\n",
    "matplotlib.rcParams['grid.linewidth'] = 0.4 # in points "
   ]
  },
  {
   "cell_type": "code",
   "execution_count": null,
   "metadata": {
    "tags": []
   },
   "outputs": [],
   "source": [
    "os.getenv('LIBRADTRANDIR')"
   ]
  },
  {
   "cell_type": "code",
   "execution_count": null,
   "metadata": {},
   "outputs": [],
   "source": [
    "from libradtranpy import libsimulateVisible"
   ]
  },
  {
   "cell_type": "code",
   "execution_count": null,
   "metadata": {
    "tags": []
   },
   "outputs": [],
   "source": [
    "from libradtranpy.libsimulateVisible import Dict_Of_sitesPressures "
   ]
  },
  {
   "cell_type": "code",
   "execution_count": null,
   "metadata": {
    "tags": []
   },
   "outputs": [],
   "source": [
    "List_Of_All_sites = list(Dict_Of_sitesPressures.keys()) \n",
    "List_Of_All_sites "
   ]
  },
  {
   "cell_type": "code",
   "execution_count": null,
   "metadata": {},
   "outputs": [],
   "source": [
    "NSites = len(List_Of_All_sites)"
   ]
  },
  {
   "cell_type": "code",
   "execution_count": null,
   "metadata": {},
   "outputs": [],
   "source": [
    "hls_colors = sns.color_palette(\"hls\", NSites)\n",
    "sns.palplot(hls_colors)"
   ]
  },
  {
   "cell_type": "code",
   "execution_count": null,
   "metadata": {
    "tags": []
   },
   "outputs": [],
   "source": [
    "import sys\n",
    "sys.path"
   ]
  },
  {
   "cell_type": "markdown",
   "metadata": {},
   "source": [
    "## Choose the parameters of the simulation"
   ]
  },
  {
   "cell_type": "code",
   "execution_count": null,
   "metadata": {},
   "outputs": [],
   "source": [
    "am= 1\n",
    "pressure = 0. # use default value\n",
    "pwv=4       # turn on or of the pwv\n",
    "aer=0  \n",
    "ozone=0.    # turn on or of the ozone\n",
    "cloudext=0"
   ]
  },
  {
   "cell_type": "markdown",
   "metadata": {},
   "source": [
    "## Simulation"
   ]
  },
  {
   "cell_type": "code",
   "execution_count": null,
   "metadata": {},
   "outputs": [],
   "source": [
    "all_trans = []\n",
    "all_obs = []\n",
    "for index, site in enumerate(List_Of_All_sites):\n",
    "    all_obs.append(site)\n",
    "    wl,atm=libsimulateVisible.ProcessSimulation(am,pwv,ozone,pressure,aer_num=aer,\n",
    "                                                      prof_str='us',proc_str='sc',cloudext=cloudext,altitude=site)\n",
    "    all_trans.append(atm)"
   ]
  },
  {
   "cell_type": "markdown",
   "metadata": {},
   "source": [
    "## Plot"
   ]
  },
  {
   "cell_type": "code",
   "execution_count": null,
   "metadata": {},
   "outputs": [],
   "source": [
    "for index in np.arange(NSites):   \n",
    "    plt.semilogy(wl,all_trans[index],'-',color=hls_colors[index],label=all_obs[index])\n",
    "plt.xlim(300,1000)\n",
    "plt.grid()\n",
    "plt.title(f\"Rayleigh scattering atmospheric transmission for airmass in {am}\")\n",
    "plt.xlabel(\"$\\\\lambda$ (nm)\")\n",
    "plt.ylabel(\"transmission\")\n",
    "plt.ylim(0.2,1.1)\n",
    "plt.legend()\n",
    "figname=\"multisitesscatttransmissionvssite_log.png\"\n",
    "plt.savefig(figname)"
   ]
  },
  {
   "cell_type": "code",
   "execution_count": null,
   "metadata": {},
   "outputs": [],
   "source": [
    "for index in np.arange(NSites):   \n",
    "    plt.plot(wl,all_trans[index],'-',color=hls_colors[index],label=all_obs[index])\n",
    "plt.xlim(300,1200)\n",
    "plt.grid()\n",
    "plt.title(f\"Rayleigh scattering atmospheric transmission for airmass = {am}\")\n",
    "\n",
    "plt.xlabel(\"$\\\\lambda$ (nm)\")\n",
    "plt.ylabel(\"transmission\")\n",
    "plt.ylim(0.,1.1)\n",
    "plt.legend()\n",
    "figname=\"multisitesscatttransmission_vssitelin.png\"\n",
    "plt.savefig(figname)"
   ]
  },
  {
   "cell_type": "markdown",
   "metadata": {},
   "source": [
    "## Compare libradtran with standard pressure and libradtran with P=743"
   ]
  },
  {
   "cell_type": "code",
   "execution_count": null,
   "metadata": {
    "tags": []
   },
   "outputs": [],
   "source": [
    "wl1,atm1=libsimulateVisible.ProcessSimulation(am,pwv,ozone,pressure,aer_num=aer,\n",
    "                                                      prof_str='us',proc_str='sc',cloudext=cloudext,altitude='LSST')\n",
    "Pstand = Dict_Of_sitesPressures['LSST']\n",
    "label1 = f\"LSST site with P = {Pstand:.2f} hPa\"\n",
    "\n",
    "\n",
    "Ptest = 743.0\n",
    "wl2,atm2=libsimulateVisible.ProcessSimulation(am,pwv,ozone,Ptest,aer_num=aer,\n",
    "                                                      prof_str='us',proc_str='sc',cloudext=cloudext,altitude='LSST')\n",
    "label2 = f\"LSST site with P = {Ptest:.2f} hPa\"\n",
    "\n"
   ]
  },
  {
   "cell_type": "code",
   "execution_count": null,
   "metadata": {
    "tags": []
   },
   "outputs": [],
   "source": [
    "\n",
    "plt.plot(wl1,atm1,'-r',label=label1)\n",
    "plt.plot(wl2,atm2,'-b',label=label2)\n",
    "plt.xlim(300,1200)\n",
    "plt.grid()\n",
    "plt.title(f\"Rayleigh scattering atmospheric transmission for airmass = {am} and 2 pressures\")\n",
    "\n",
    "plt.xlabel(\"$\\\\lambda$ (nm)\")\n",
    "plt.ylabel(\"transmission\")\n",
    "plt.ylim(0.4,1.05)\n",
    "plt.legend()\n",
    "figname=\"comparepressurescatttransmission_lsst_lin.png\"\n",
    "plt.savefig(figname)"
   ]
  },
  {
   "cell_type": "code",
   "execution_count": null,
   "metadata": {
    "tags": []
   },
   "outputs": [],
   "source": [
    "the_leg = f\"Rayleigh transmission ratio T(P = {Ptest:.1f} hPa)/T(P={Pstand:.1f} hPa)\"\n",
    "plt.plot(wl1,atm2/atm1,'-r',label=the_leg)\n",
    "\n",
    "plt.xlim(300,1200)\n",
    "plt.grid()\n",
    "plt.title(f\"Rayleigh scattering atmospheric transmission ratio for airmass = {am}\")\n",
    "\n",
    "plt.xlabel(\"$\\\\lambda$ (nm)\")\n",
    "plt.ylabel(\"transmission\")\n",
    "plt.ylim(0.95,1.05)\n",
    "plt.legend()\n",
    "figname=\"comparepressurescatttransmissionratio_lsst_lin.png\"\n",
    "plt.savefig(figname)"
   ]
  },
  {
   "cell_type": "code",
   "execution_count": null,
   "metadata": {},
   "outputs": [],
   "source": []
  }
 ],
 "metadata": {
  "anaconda-cloud": {},
  "kernelspec": {
   "display_name": "conda_py310",
   "language": "python",
   "name": "conda_py310"
  },
  "language_info": {
   "codemirror_mode": {
    "name": "ipython",
    "version": 3
   },
   "file_extension": ".py",
   "mimetype": "text/x-python",
   "name": "python",
   "nbconvert_exporter": "python",
   "pygments_lexer": "ipython3",
   "version": "3.10.12"
  },
  "toc": {
   "base_numbering": 1,
   "nav_menu": {
    "height": "12px",
    "width": "252px"
   },
   "number_sections": true,
   "sideBar": true,
   "skip_h1_title": false,
   "title_cell": "Table of Contents",
   "title_sidebar": "Contents",
   "toc_cell": false,
   "toc_position": {},
   "toc_section_display": "block",
   "toc_window_display": false
  }
 },
 "nbformat": 4,
 "nbformat_minor": 4
}

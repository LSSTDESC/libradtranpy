{
 "cells": [
  {
   "cell_type": "markdown",
   "id": "d5d58322-4791-4bff-9c51-916d345e085e",
   "metadata": {},
   "source": [
    "# Compare Simple atmospheric libradtran with pyextinction\n",
    "\n",
    "===========================================================================\n",
    "\n",
    "- author : Sylvie Dagoret-Campagne\n",
    "- affiliation : IJCLab/IN2P3/CNRS\n",
    "- creation date : 2023/10/20\n",
    "- last update : 2023/10/21\n",
    "\n",
    "===========================================================================\n",
    "\n"
   ]
  },
  {
   "cell_type": "code",
   "execution_count": null,
   "id": "593c7f95-13c1-4ead-8403-446b5d5d2615",
   "metadata": {
    "tags": []
   },
   "outputs": [],
   "source": [
    "import numpy as np\n",
    "import pandas as pd\n",
    "import os\n",
    "from scipy import interpolate\n",
    "from astropy.io import fits\n",
    "from astropy.table import Table\n",
    "\n",
    "import pickle\n",
    "import seaborn as sns\n",
    "import copy\n",
    "import astropy.io.fits as F"
   ]
  },
  {
   "cell_type": "code",
   "execution_count": null,
   "id": "eeb7872a-03c9-421f-8fd7-6ba5c508ff79",
   "metadata": {
    "tags": []
   },
   "outputs": [],
   "source": [
    "import matplotlib.pyplot as plt\n",
    "%matplotlib inline\n",
    "\n",
    "# to enlarge the sizes\n",
    "params = {'legend.fontsize': 'large',\n",
    "          'figure.figsize': (16, 8),\n",
    "         'axes.labelsize': 'xx-large',\n",
    "         'axes.titlesize':'xx-large',\n",
    "         'xtick.labelsize':'xx-large',\n",
    "         'ytick.labelsize':'xx-large'}\n",
    "plt.rcParams.update(params)\n"
   ]
  },
  {
   "cell_type": "code",
   "execution_count": null,
   "id": "01248568-3060-470e-9c5b-06f02497a23b",
   "metadata": {
    "tags": []
   },
   "outputs": [],
   "source": [
    "from libradtranpy import  libsimulateVisible"
   ]
  },
  {
   "cell_type": "code",
   "execution_count": null,
   "id": "276967f2-8c58-4110-83cf-aebc9b4ef95a",
   "metadata": {
    "tags": []
   },
   "outputs": [],
   "source": [
    "import warnings\n",
    "warnings.filterwarnings('ignore')"
   ]
  },
  {
   "cell_type": "code",
   "execution_count": null,
   "id": "e38fb8c4-f981-44c5-aa21-cc0649c98ffc",
   "metadata": {
    "tags": []
   },
   "outputs": [],
   "source": [
    "def readOzoneTemplatexy(ozoneName,\n",
    "                      colLbda='LAMBDA', colTrans='OZONE', ext=1):\n",
    "    \"\"\"\n",
    "    Read ozone transmission template, interpolate over\n",
    "    wavelengthes, and convert to extinction [mag/airmass].\n",
    "\n",
    "    :param ozoneName: input FITS table, with columns *colLbda*\n",
    "      (wavelength in AA) and *colTrans* (fractional transmission), and\n",
    "      key 'REFO3COL' specifing the reference ozone column density [DU]\n",
    "    :param lbda: output wavelengthes [AA]\n",
    "    :param colLbda: name of the wavelength (in AA) column\n",
    "    :param colTrans: name of the ozone transmission column\n",
    "    :param ext: extension in which to look for wavelength and\n",
    "      transmission columns\n",
    "    :return: ozone extinction [mag/airmass], refO3col\n",
    "    \"\"\"\n",
    "\n",
    "    # Read wavelength and transmission columns\n",
    "    ffile = F.open(ozoneName)\n",
    "    x = ffile[ext].data.field(colLbda)   # Wavelength\n",
    "    y = ffile[ext].data.field(colTrans)  # Transmission\n",
    "    refO3col = ffile[ext].header[\"REFO3COL\"]\n",
    "    return x,y,refO3col"
   ]
  },
  {
   "cell_type": "markdown",
   "id": "8f221f32-64c8-42ed-a1e0-7cb35e042b6b",
   "metadata": {},
   "source": [
    "# Configuration"
   ]
  },
  {
   "cell_type": "code",
   "execution_count": null,
   "id": "7577434d-592c-478b-bc83-11324f6404e3",
   "metadata": {
    "tags": []
   },
   "outputs": [],
   "source": [
    "WL = np.arange(300.,1100.)"
   ]
  },
  {
   "cell_type": "code",
   "execution_count": null,
   "id": "ab7e26e2-e4d3-4f0a-8b49-1c6027a14c5e",
   "metadata": {
    "tags": []
   },
   "outputs": [],
   "source": [
    "AIRMASSMIN=1.0\n",
    "AIRMASSMAX=2.6\n",
    "DAM = 0.2\n",
    "airmasses = np.arange(AIRMASSMIN,AIRMASSMAX,DAM)\n",
    "NAM=len(airmasses)"
   ]
  },
  {
   "cell_type": "code",
   "execution_count": null,
   "id": "e55311c7-c0a6-40a7-910e-93abbac8cfe7",
   "metadata": {
    "tags": []
   },
   "outputs": [],
   "source": [
    "PWVMIN = 0\n",
    "PWVMAX = 11\n",
    "DPWV = 0.5\n",
    "pwvs = np.arange(PWVMIN,PWVMAX,DPWV)\n",
    "NPWV = len(pwvs)"
   ]
  },
  {
   "cell_type": "code",
   "execution_count": null,
   "id": "72a03ee1-2803-4c21-b2b5-b0202a5bc034",
   "metadata": {
    "tags": []
   },
   "outputs": [],
   "source": [
    "OZMIN = 0\n",
    "OZMAX = 600\n",
    "DOZ   = 50\n",
    "ozs = np.arange(OZMIN,OZMAX,DOZ)\n",
    "NOZ = len(ozs)"
   ]
  },
  {
   "cell_type": "code",
   "execution_count": null,
   "id": "279e86c0-24be-4a57-be79-23dc13200181",
   "metadata": {
    "tags": []
   },
   "outputs": [],
   "source": [
    "hls_colors = sns.color_palette(\"hls\", NAM)\n",
    "sns.palplot(hls_colors)"
   ]
  },
  {
   "cell_type": "markdown",
   "id": "efbafb6f-9f30-4862-9e98-b66821cfdd9d",
   "metadata": {},
   "source": [
    "## PyExtinction initialisation"
   ]
  },
  {
   "cell_type": "code",
   "execution_count": null,
   "id": "76b02624-119c-46f9-afb5-c1ebadc9882a",
   "metadata": {
    "tags": []
   },
   "outputs": [],
   "source": [
    "from pyextinction.AtmosphericExtinction import ExtinctionModel,EXT2OPT"
   ]
  },
  {
   "cell_type": "code",
   "execution_count": null,
   "id": "045679ed-459b-4640-9d31-b19ac8aeec45",
   "metadata": {
    "tags": []
   },
   "outputs": [],
   "source": [
    "pyExt_model = ExtinctionModel(WL*10.)"
   ]
  },
  {
   "cell_type": "code",
   "execution_count": null,
   "id": "9155f96e-3875-4508-a427-e18d3132578a",
   "metadata": {
    "tags": []
   },
   "outputs": [],
   "source": [
    "# Default ozone template\n",
    "#pyE_O3Template = os.path.join(os.path.dirname(os.path.abspath(__file__)),'o3data/ozoneTemplate.fits')\n",
    "pyE_O3Template = '/Users/dagoret/MacOSX/GitHub/LSST/AtmosphericSimulation/libradtranpy/src/pyextinction/o3data/ozoneTemplate.fits'"
   ]
  },
  {
   "cell_type": "code",
   "execution_count": null,
   "id": "d0f6cb89-74e0-4bf9-b036-b6a37b9149bb",
   "metadata": {
    "tags": []
   },
   "outputs": [],
   "source": [
    "pyE_press = 740\n",
    "pyE_o3 = 600.\n",
    "pyE_tau = 0.05\n",
    "pyE_ang = 1.3\n",
    "pyE_pars = np.array([pyE_press,pyE_o3,pyE_tau,pyE_ang])\n",
    "pyE_label1='pyExt Rayleigh [%.0f mbar]' % pyE_press\n",
    "pyE_label2='pyExt Ozone [%.0f DU]' % pyE_o3\n",
    "pyE_label3=u'pyExt Aerosols [τ=%.4f, å=%.2f]' % (pyE_tau, pyE_ang)\n",
    "pyE_all_labels = [pyE_label1,pyE_label2,pyE_label3]"
   ]
  },
  {
   "cell_type": "code",
   "execution_count": null,
   "id": "8eae764d-fc77-4b5a-a52a-713e6f23b79b",
   "metadata": {
    "tags": []
   },
   "outputs": [],
   "source": [
    "pyExt_model.setParams(pyE_pars, dpars=None)\n",
    "pyE_components_extinctions = pyExt_model.extinctionComponents()\n",
    "pyE_opticalindexes = EXT2OPT * pyE_components_extinctions"
   ]
  },
  {
   "cell_type": "code",
   "execution_count": null,
   "id": "44c2cb8f-d8e0-49bb-8b94-e9a35559028c",
   "metadata": {
    "tags": []
   },
   "outputs": [],
   "source": [
    "pyE_xO3ref,pyE_yO3ref,pyE_refO3col = readOzoneTemplatexy(pyE_O3Template)\n",
    "pyE_labelO3_ref = f\"pyExt Ozone ref {pyE_refO3col} DU\""
   ]
  },
  {
   "cell_type": "code",
   "execution_count": null,
   "id": "de5ae988-bce5-4a53-bb8a-7fa546989dbc",
   "metadata": {
    "tags": []
   },
   "outputs": [],
   "source": [
    "pyExt_model.__str__()"
   ]
  },
  {
   "cell_type": "markdown",
   "id": "e7c1cbe1-8c44-4956-ad6d-965a70ffd6c0",
   "metadata": {},
   "source": [
    "## Check emulator with Rayleigh scattering"
   ]
  },
  {
   "cell_type": "code",
   "execution_count": null,
   "id": "03a62a32-dd4d-454a-94ff-73789a1aaabf",
   "metadata": {
    "tags": []
   },
   "outputs": [],
   "source": [
    "pressure = 0. # use default value\n",
    "pwv=4       # turn on or of the pwv\n",
    "aer=0  \n",
    "ozone=0.    # turn on or of the ozone\n",
    "cloudext=0"
   ]
  },
  {
   "cell_type": "code",
   "execution_count": null,
   "id": "39bdd744-1148-46d9-8ebb-6fd2f777fd78",
   "metadata": {
    "tags": []
   },
   "outputs": [],
   "source": [
    "fig = plt.figure(figsize=(12,8))\n",
    "ax=fig.add_subplot()\n",
    "for idx,am in enumerate(airmasses):\n",
    "\n",
    "    path,thefile=libsimulateVisible.ProcessSimulation(am,pwv,ozone,pressure,\n",
    "                                                      prof_str='us',proc_str='sc',cloudext=cloudext)\n",
    "    data = np.loadtxt(os.path.join(path,thefile))\n",
    "    wl = data[:,0]\n",
    "    transm = data[:,1] \n",
    "    \n",
    "    label = f\"libRad : z = {am:.1f}\"\n",
    "    ax.plot(wl,transm,'-',color=hls_colors[idx],label=label,lw=1)\n",
    "    if idx==0:\n",
    "        ax.plot(WL,np.exp(-pyE_opticalindexes[0,:]*am),\":\",color=hls_colors[idx],lw=4,label=pyE_label1)\n",
    "    else:\n",
    "        ax.plot(WL,np.exp(-pyE_opticalindexes[0,:]*am),\":\",color=hls_colors[idx],lw=4)\n",
    "ax.set_ylabel(\"Component transmission\")\n",
    "ax.set_xlabel(\"$\\\\lambda$ (nm)\")\n",
    "ax.legend()\n",
    "ax.set_title(\"Rayleigh Scattering libradtran/pyExtinction\")\n",
    "ax.grid()"
   ]
  },
  {
   "cell_type": "markdown",
   "id": "a3802a0a-42a2-4aab-8293-8be3d8bb9713",
   "metadata": {},
   "source": [
    "## Check emulator with Ozone absorption"
   ]
  },
  {
   "cell_type": "code",
   "execution_count": null,
   "id": "b025a29c-181c-4a61-ba6c-db908e7b1c63",
   "metadata": {
    "tags": []
   },
   "outputs": [],
   "source": [
    "hls_colors = sns.color_palette(\"hls\", NOZ)\n",
    "sns.palplot(hls_colors)"
   ]
  },
  {
   "cell_type": "code",
   "execution_count": null,
   "id": "bd388bcd-ab1b-477d-bf6a-c3da0b941c62",
   "metadata": {
    "tags": []
   },
   "outputs": [],
   "source": [
    "airmass = 1\n",
    "pressure = 0. # use default value\n",
    "pwv=0       # turn on or of the pwv\n",
    "aer=0  \n",
    "ozone=0.    # turn on or of the ozone\n",
    "cloudext=0"
   ]
  },
  {
   "cell_type": "code",
   "execution_count": null,
   "id": "8d2d01e4-2290-4d7f-80a9-e58914e7e03e",
   "metadata": {
    "tags": []
   },
   "outputs": [],
   "source": [
    "fig = plt.figure(figsize=(12,8))\n",
    "ax=fig.add_subplot()\n",
    "for idx,oz in enumerate(ozs):\n",
    "\n",
    "    path,thefile=libsimulateVisible.ProcessSimulation(airmass,pwv,oz,pressure,\n",
    "                                                      prof_str='us',proc_str='ab',cloudext=cloudext)\n",
    "    data = np.loadtxt(os.path.join(path,thefile))\n",
    "    wl = data[:,0]\n",
    "    transm = data[:,1] \n",
    "      \n",
    "    label = f\"libRad : oz = {oz:.0f} DU\"\n",
    "    ax.plot(wl,transm,color=hls_colors[idx],label=label)\n",
    "    \n",
    "ax.plot(WL,np.exp(-pyE_opticalindexes[1,:]),color=\"grey\",label=pyE_label2,lw=2)\n",
    "\n",
    "ax.plot(pyE_xO3ref/10,pyE_yO3ref,color=\"k\",label=pyE_labelO3_ref,lw=2)\n",
    "\n",
    "ax.set_ylabel(\"transmission\")\n",
    "ax.set_xlabel(\"$\\\\lambda$ (nm)\")\n",
    "ax.legend()\n",
    "ax.set_title(f\"Ozone absorption libradtran/pyExtinction, am = {airmass:.1f}\")\n",
    "ax.grid()\n",
    "ax.set_ylim(0.9,1.025)"
   ]
  },
  {
   "cell_type": "markdown",
   "id": "fca081d6-a4cf-4167-ae66-cada56b1d016",
   "metadata": {
    "tags": []
   },
   "source": [
    "#### Ozone at different airmasses"
   ]
  },
  {
   "cell_type": "code",
   "execution_count": null,
   "id": "30c94e28-07a8-43d9-940e-b0edf6c2eef7",
   "metadata": {
    "tags": []
   },
   "outputs": [],
   "source": [
    "hls_colors = sns.color_palette(\"hls\", NAM)\n",
    "sns.palplot(hls_colors)"
   ]
  },
  {
   "cell_type": "code",
   "execution_count": null,
   "id": "ba169c00-0ee6-4a53-95a0-6cc6db3d8736",
   "metadata": {
    "tags": []
   },
   "outputs": [],
   "source": [
    "pyE_refO3col"
   ]
  },
  {
   "cell_type": "code",
   "execution_count": null,
   "id": "fe9b9171-f6b2-4c57-bc77-daf7962b5871",
   "metadata": {
    "tags": []
   },
   "outputs": [],
   "source": [
    "pyE_pars = np.array([pyE_press,pyE_refO3col,pyE_tau,pyE_ang])\n",
    "pyE_label1='pyExt Rayleigh [%.0f mbar]' % pyE_press\n",
    "pyE_label2='pyExt Ozone [%.0f DU]' % pyE_refO3col\n",
    "pyE_label3=u'pyExt Aerosols [τ=%.4f, å=%.2f]' % (pyE_tau, pyE_ang)\n",
    "pyE_all_labels = [pyE_label1,pyE_label2,pyE_label3]\n",
    "pyExt_model.setParams(pyE_pars, dpars=None)\n",
    "pyE_components_extinctions = pyExt_model.extinctionComponents()\n",
    "pyE_opticalindexes = EXT2OPT * pyE_components_extinctions"
   ]
  },
  {
   "cell_type": "code",
   "execution_count": null,
   "id": "634fcab8-4337-4001-9a4e-c253f25e9dee",
   "metadata": {
    "tags": []
   },
   "outputs": [],
   "source": [
    "oz= pyE_refO3col\n",
    "fig = plt.figure(figsize=(12,8))\n",
    "ax=fig.add_subplot()\n",
    "\n",
    "for idx,am in enumerate(airmasses):\n",
    "\n",
    "\n",
    "    path,thefile=libsimulateVisible.ProcessSimulation(am,pwv,oz,pressure,\n",
    "                                                      prof_str='us',proc_str='ab',cloudext=cloudext)\n",
    "    data = np.loadtxt(os.path.join(path,thefile))\n",
    "    wl = data[:,0]\n",
    "    transm = data[:,1] \n",
    "    \n",
    "    label = f\"libRad : am = {am:.1f}\"\n",
    "    ax.plot(wl,transm,'-',color=hls_colors[idx],label=label,lw=1)\n",
    "\n",
    "    if idx ==0:\n",
    "        ax.plot(WL,np.exp(-pyE_opticalindexes[1,:]*am),':',color=hls_colors[idx],label=pyE_label2,lw=4)\n",
    "    else:\n",
    "        \n",
    "        ax.plot(WL,np.exp(-pyE_opticalindexes[1,:]*am),':',color=hls_colors[idx],lw=4)\n",
    "\n",
    "\n",
    "\n",
    "ax.set_ylabel(\"transmission\")\n",
    "ax.set_xlabel(\"$\\\\lambda$ (nm)\")\n",
    "ax.legend()\n",
    "ax.set_title(f\"Ozone absorption libradtra/pyExtinction, oz = {oz:.0f} DU\")\n",
    "ax.grid()\n",
    "ax.set_ylim(0.8,1.025)"
   ]
  },
  {
   "cell_type": "markdown",
   "id": "e918bf6a-df3f-4e7e-80d2-fb8234e76747",
   "metadata": {},
   "source": [
    "## Check libratran with combined scattering and absorption processes"
   ]
  },
  {
   "cell_type": "code",
   "execution_count": null,
   "id": "608817ce-d894-4cf5-9429-13b0ae3d9650",
   "metadata": {
    "tags": []
   },
   "outputs": [],
   "source": [
    "am0 = 1.0\n",
    "pwv0 = 5.0\n",
    "oz0 = 500.\n",
    "path,thefile=libsimulateVisible.ProcessSimulation(am0,pwv,oz0,pressure,\n",
    "                                                      prof_str='us',proc_str='sa',cloudext=cloudext)\n",
    "data = np.loadtxt(os.path.join(path,thefile))\n",
    "wl1 = data[:,0]\n",
    "transm1 = data[:,1] \n",
    "\n",
    "label0=f\"libradtran : airmass = {am0:.1f}, pwv  = {pwv0:.1f} mm , oz = {oz0:.0f} DU\""
   ]
  },
  {
   "cell_type": "code",
   "execution_count": null,
   "id": "42792d73-d348-4329-9a88-03fc55ef1323",
   "metadata": {
    "tags": []
   },
   "outputs": [],
   "source": [
    "am1 = 2.0\n",
    "pwv1 = 5.0\n",
    "oz1 = 500.\n",
    "path,thefile=libsimulateVisible.ProcessSimulation(am1,pwv1,oz1,pressure,\n",
    "                                                      prof_str='us',proc_str='sa',cloudext=cloudext)\n",
    "data = np.loadtxt(os.path.join(path,thefile))\n",
    "wl2 = data[:,0]\n",
    "transm2 = data[:,1] \n",
    "\n",
    "label1=f\"libradtran : airmass = {am1:.1f},  pwv  = {pwv1:.1f} mm , oz = {oz1:.0f} DU\""
   ]
  },
  {
   "cell_type": "code",
   "execution_count": null,
   "id": "7e6f7bba-65b3-49bc-9aaa-10b90dc33403",
   "metadata": {
    "tags": []
   },
   "outputs": [],
   "source": [
    "fig = plt.figure(figsize=(12,8))\n",
    "ax=fig.add_subplot()\n",
    "ax.plot(wl1,transm1,'b-',label=label0)\n",
    "ax.plot(wl2,transm2,'r-',label=label1)\n",
    "ax.legend()\n",
    "ax.grid()"
   ]
  },
  {
   "cell_type": "markdown",
   "id": "c6a58e03-059a-4d1f-a95a-6d4221e497c8",
   "metadata": {},
   "source": [
    "## Check with aerosols"
   ]
  },
  {
   "cell_type": "markdown",
   "id": "5408e646-ce05-4b46-ad6a-9a2d267c17fe",
   "metadata": {},
   "source": [
    "$$\n",
    "OD = \\tau \\left( \\frac{\\lambda_{ref}}{\\lambda} \\right)^a\n",
    "$$"
   ]
  },
  {
   "cell_type": "code",
   "execution_count": null,
   "id": "3d289b8d-d3fa-4a88-912c-a68f7e53f32c",
   "metadata": {
    "tags": []
   },
   "outputs": [],
   "source": [
    "hls_colors = sns.color_palette(\"hls\", NAM)\n",
    "sns.palplot(hls_colors)"
   ]
  },
  {
   "cell_type": "markdown",
   "id": "4f4443da-393e-4548-82a0-1ca81f41d543",
   "metadata": {},
   "source": [
    "### Aerosols with One Component"
   ]
  },
  {
   "cell_type": "markdown",
   "id": "caed17fc-7fdf-4258-80a9-093112fbde00",
   "metadata": {},
   "source": [
    "#### Parameters for pyExtinction"
   ]
  },
  {
   "cell_type": "code",
   "execution_count": null,
   "id": "dc8a4f3d-56d0-43e9-b02a-9194cec2564a",
   "metadata": {},
   "outputs": [],
   "source": [
    "pyE_tau = 0.05\n",
    "pyE_ang = 1.3"
   ]
  },
  {
   "cell_type": "markdown",
   "id": "6953a707-0521-4cbb-a93b-ab2dd0ec6b46",
   "metadata": {},
   "source": [
    "#### Convert aerosols parameters for AtmEmulator\n",
    "\n",
    "- not same reference wavelength"
   ]
  },
  {
   "cell_type": "code",
   "execution_count": null,
   "id": "eb4de278-cdca-4c3d-83bd-806fb86d730e",
   "metadata": {},
   "outputs": [],
   "source": [
    "taus = [pyE_tau*(1000./550.)**pyE_ang ]\n",
    "betas = [- pyE_ang]\n",
    "ncomp=1"
   ]
  },
  {
   "cell_type": "code",
   "execution_count": null,
   "id": "5b979cfb-ead1-4732-815f-0e832d8a82df",
   "metadata": {
    "tags": []
   },
   "outputs": [],
   "source": [
    "fig = plt.figure(figsize=(12,8))\n",
    "ax=fig.add_subplot()\n",
    "\n",
    "for idx,am in enumerate(airmasses):\n",
    "\n",
    "    if idx==0:\n",
    "        ax.plot(WL,np.exp(-pyE_opticalindexes[2,:]*am),\":\",color=hls_colors[idx],lw=4,label=pyE_label3) \n",
    "    else:\n",
    "        ax.plot(WL,np.exp(-pyE_opticalindexes[2,:]*am),\":\",color=hls_colors[idx],lw=4) \n",
    "ax.set_ylim(0.5,1.025)\n",
    "ax.set_ylabel(\"transmission\")\n",
    "ax.set_xlabel(\"$\\\\lambda$ (nm)\")\n",
    "ax.legend()\n",
    "ax.set_title(f\"Aerosol absorption in pyextinction : One Component \")\n",
    "ax.grid()"
   ]
  }
 ],
 "metadata": {
  "kernelspec": {
   "display_name": "conda_py310",
   "language": "python",
   "name": "conda_py310"
  },
  "language_info": {
   "codemirror_mode": {
    "name": "ipython",
    "version": 3
   },
   "file_extension": ".py",
   "mimetype": "text/x-python",
   "name": "python",
   "nbconvert_exporter": "python",
   "pygments_lexer": "ipython3",
   "version": "3.10.12"
  },
  "vscode": {
   "interpreter": {
    "hash": "b002c99f66c5bb850ebba7ae0c2124f7695114407038504fe88ddf9182cfa7d8"
   }
  }
 },
 "nbformat": 4,
 "nbformat_minor": 5
}
